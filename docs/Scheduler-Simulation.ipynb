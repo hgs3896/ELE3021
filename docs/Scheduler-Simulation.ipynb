{
  "nbformat": 4,
  "nbformat_minor": 0,
  "metadata": {
    "colab": {
      "name": "Scheduler.ipynb",
      "provenance": [],
      "collapsed_sections": []
    },
    "kernelspec": {
      "name": "python3",
      "display_name": "Python 3"
    },
    "language_info": {
      "name": "python"
    }
  },
  "cells": [
    {
      "cell_type": "code",
      "source": [
        "import numpy as np"
      ],
      "metadata": {
        "id": "tK4bvtXsS3Zy"
      },
      "execution_count": null,
      "outputs": []
    },
    {
      "cell_type": "code",
      "source": [
        "import pandas as pd"
      ],
      "metadata": {
        "id": "k9RSCuCHlDHa"
      },
      "execution_count": null,
      "outputs": []
    },
    {
      "cell_type": "code",
      "source": [
        "from fractions import Fraction"
      ],
      "metadata": {
        "id": "FsY2lNWt3kjz"
      },
      "execution_count": null,
      "outputs": []
    },
    {
      "cell_type": "code",
      "execution_count": null,
      "metadata": {
        "id": "9C1cuIb8SBAH"
      },
      "outputs": [],
      "source": [
        "from queue import PriorityQueue"
      ]
    },
    {
      "cell_type": "code",
      "source": [
        "from collections import deque"
      ],
      "metadata": {
        "id": "bgqXv-pWS04U"
      },
      "execution_count": null,
      "outputs": []
    },
    {
      "cell_type": "code",
      "source": [
        "import matplotlib.pyplot as plt\n",
        "%matplotlib inline"
      ],
      "metadata": {
        "id": "wQ544qTOTQ_z"
      },
      "execution_count": null,
      "outputs": []
    },
    {
      "cell_type": "markdown",
      "source": [
        "# Stride Scheduler"
      ],
      "metadata": {
        "id": "41aPOqR9S5MV"
      }
    },
    {
      "cell_type": "code",
      "source": [
        "def frac2float(frac):\n",
        "  return frac.numerator / frac.denominator"
      ],
      "metadata": {
        "id": "M2HNqHU8AmpE"
      },
      "execution_count": null,
      "outputs": []
    },
    {
      "cell_type": "code",
      "source": [
        "class StrideItem:\n",
        "  def __init__(self, stride, name, share):\n",
        "    self.stride = stride\n",
        "    \n",
        "    self.name = name\n",
        "    self.share = share\n",
        "    self.pass_value = self.stride.max_pass # Fraction(0)\n",
        "    self.stride.all_share += self.share\n",
        "  \n",
        "  def process(self):\n",
        "    self.pass_value += Fraction(self.stride.all_share, self.share)\n",
        "    self.stride.max_pass = max(self.pass_value, self.stride.max_pass)\n",
        "    return self\n",
        "  \n",
        "  def adjust(self, new_share):\n",
        "    self.stride.all_share -= self.share\n",
        "    self.share = new_share\n",
        "    self.stride.all_share += self.share\n",
        "    return self\n",
        "\n",
        "  def __lt__(self, x):\n",
        "    return self.pass_value < x.pass_value\n",
        "  \n",
        "  def __repr__(self):\n",
        "    return f\"{self.name}: share = {self.share}, pass = {self.pass_value}\""
      ],
      "metadata": {
        "id": "D1te96BRfNPs"
      },
      "execution_count": null,
      "outputs": []
    },
    {
      "cell_type": "code",
      "source": [
        "class Stride:\n",
        "  def __init__(self):\n",
        "    self.all_share = 0\n",
        "    self.max_pass = Fraction(0)\n",
        "    self.sq = PriorityQueue()\n",
        "\n",
        "    self.stride_logs = []\n",
        "  \n",
        "  def push(self, name, share):\n",
        "    self.sq.put(StrideItem(self, name, share))\n",
        "\n",
        "  def process(self):\n",
        "    idx = 0\n",
        "    while True:\n",
        "      process = self.sq.get()\n",
        "      self.stride_logs.append((idx, self.all_share, frac2float(self.max_pass), process.name, process.share, process.pass_value)) # logging\n",
        "      yield process.process() # context switching\n",
        "      self.sq.put(process)\n",
        "      idx += 1"
      ],
      "metadata": {
        "id": "Fi9A9escbxM-"
      },
      "execution_count": null,
      "outputs": []
    },
    {
      "cell_type": "code",
      "source": [
        "sq = Stride()"
      ],
      "metadata": {
        "id": "eWY0wQiIguK0"
      },
      "execution_count": null,
      "outputs": []
    },
    {
      "cell_type": "code",
      "source": [
        "sq.push(\"Stride Process 0\", 20)\n",
        "sq.push(\"Stride Process 1\", 10)\n",
        "sq.push(\"Stride Process 2\", 30)\n",
        "sq.push(\"Stride Process 3\", 20)\n",
        "sq.push(\"Stride Process 4\", 20)"
      ],
      "metadata": {
        "id": "6i0gXZh2XcJw"
      },
      "execution_count": null,
      "outputs": []
    },
    {
      "cell_type": "code",
      "source": [
        "stride_scheduler = sq.process()"
      ],
      "metadata": {
        "id": "SnfNm_CzhAWT"
      },
      "execution_count": null,
      "outputs": []
    },
    {
      "cell_type": "code",
      "source": [
        "for _ in range(50):\n",
        "  item = next(stride_scheduler)"
      ],
      "metadata": {
        "id": "2wVD0AuBgByE"
      },
      "execution_count": null,
      "outputs": []
    },
    {
      "cell_type": "code",
      "source": [
        "item = next(stride_scheduler)\n",
        "item.adjust(5)"
      ],
      "metadata": {
        "colab": {
          "base_uri": "https://localhost:8080/"
        },
        "id": "qCjcf15Mirk2",
        "outputId": "0326e1fb-effd-4372-fceb-5f6d0d8ab475"
      },
      "execution_count": null,
      "outputs": [
        {
          "output_type": "execute_result",
          "data": {
            "text/plain": [
              "Stride Process 3: share = 5, pass = 55"
            ]
          },
          "metadata": {},
          "execution_count": 14
        }
      ]
    },
    {
      "cell_type": "code",
      "source": [
        "for _ in range(50):\n",
        "  item = next(stride_scheduler)"
      ],
      "metadata": {
        "id": "o51vlZQXhQgN"
      },
      "execution_count": null,
      "outputs": []
    },
    {
      "cell_type": "code",
      "source": [
        "sq.push(\"Stride Process 5\", 30)\n",
        "item = next(stride_scheduler)"
      ],
      "metadata": {
        "id": "xuLENejT3iSf"
      },
      "execution_count": null,
      "outputs": []
    },
    {
      "cell_type": "code",
      "source": [
        "for _ in range(50):\n",
        "  item = next(stride_scheduler)"
      ],
      "metadata": {
        "id": "1yRNT4K06aRb"
      },
      "execution_count": null,
      "outputs": []
    },
    {
      "cell_type": "code",
      "source": [
        "stride_df = pd.DataFrame(sq.stride_logs, columns=[\"ticks\", \"all_share\", \"max_pass\", \"name\", \"share\", \"pass_value\"])\n",
        "stride_df"
      ],
      "metadata": {
        "colab": {
          "base_uri": "https://localhost:8080/",
          "height": 423
        },
        "id": "OcaC-H25A8W3",
        "outputId": "c88ae50c-ee2f-435a-fc15-c2990e77b164"
      },
      "execution_count": null,
      "outputs": [
        {
          "output_type": "execute_result",
          "data": {
            "text/plain": [
              "     ticks  all_share  max_pass              name  share pass_value\n",
              "0        0        100      0.00  Stride Process 0     20          0\n",
              "1        1        100      5.00  Stride Process 2     30          0\n",
              "2        2        100      5.00  Stride Process 4     20          0\n",
              "3        3        100      5.00  Stride Process 1     10          0\n",
              "4        4        100     10.00  Stride Process 3     20          0\n",
              "..     ...        ...       ...               ...    ...        ...\n",
              "147    147        115    152.00  Stride Process 0     20        147\n",
              "148    148        115    152.75  Stride Process 1     10        147\n",
              "149    149        115    158.50  Stride Process 4     20        147\n",
              "150    150        115    158.50  Stride Process 2     30        148\n",
              "151    151        115    158.50  Stride Process 5     30      889/6\n",
              "\n",
              "[152 rows x 6 columns]"
            ],
            "text/html": [
              "\n",
              "  <div id=\"df-afcf0c84-97d8-4d7c-88a6-396ec7137a29\">\n",
              "    <div class=\"colab-df-container\">\n",
              "      <div>\n",
              "<style scoped>\n",
              "    .dataframe tbody tr th:only-of-type {\n",
              "        vertical-align: middle;\n",
              "    }\n",
              "\n",
              "    .dataframe tbody tr th {\n",
              "        vertical-align: top;\n",
              "    }\n",
              "\n",
              "    .dataframe thead th {\n",
              "        text-align: right;\n",
              "    }\n",
              "</style>\n",
              "<table border=\"1\" class=\"dataframe\">\n",
              "  <thead>\n",
              "    <tr style=\"text-align: right;\">\n",
              "      <th></th>\n",
              "      <th>ticks</th>\n",
              "      <th>all_share</th>\n",
              "      <th>max_pass</th>\n",
              "      <th>name</th>\n",
              "      <th>share</th>\n",
              "      <th>pass_value</th>\n",
              "    </tr>\n",
              "  </thead>\n",
              "  <tbody>\n",
              "    <tr>\n",
              "      <th>0</th>\n",
              "      <td>0</td>\n",
              "      <td>100</td>\n",
              "      <td>0.00</td>\n",
              "      <td>Stride Process 0</td>\n",
              "      <td>20</td>\n",
              "      <td>0</td>\n",
              "    </tr>\n",
              "    <tr>\n",
              "      <th>1</th>\n",
              "      <td>1</td>\n",
              "      <td>100</td>\n",
              "      <td>5.00</td>\n",
              "      <td>Stride Process 2</td>\n",
              "      <td>30</td>\n",
              "      <td>0</td>\n",
              "    </tr>\n",
              "    <tr>\n",
              "      <th>2</th>\n",
              "      <td>2</td>\n",
              "      <td>100</td>\n",
              "      <td>5.00</td>\n",
              "      <td>Stride Process 4</td>\n",
              "      <td>20</td>\n",
              "      <td>0</td>\n",
              "    </tr>\n",
              "    <tr>\n",
              "      <th>3</th>\n",
              "      <td>3</td>\n",
              "      <td>100</td>\n",
              "      <td>5.00</td>\n",
              "      <td>Stride Process 1</td>\n",
              "      <td>10</td>\n",
              "      <td>0</td>\n",
              "    </tr>\n",
              "    <tr>\n",
              "      <th>4</th>\n",
              "      <td>4</td>\n",
              "      <td>100</td>\n",
              "      <td>10.00</td>\n",
              "      <td>Stride Process 3</td>\n",
              "      <td>20</td>\n",
              "      <td>0</td>\n",
              "    </tr>\n",
              "    <tr>\n",
              "      <th>...</th>\n",
              "      <td>...</td>\n",
              "      <td>...</td>\n",
              "      <td>...</td>\n",
              "      <td>...</td>\n",
              "      <td>...</td>\n",
              "      <td>...</td>\n",
              "    </tr>\n",
              "    <tr>\n",
              "      <th>147</th>\n",
              "      <td>147</td>\n",
              "      <td>115</td>\n",
              "      <td>152.00</td>\n",
              "      <td>Stride Process 0</td>\n",
              "      <td>20</td>\n",
              "      <td>147</td>\n",
              "    </tr>\n",
              "    <tr>\n",
              "      <th>148</th>\n",
              "      <td>148</td>\n",
              "      <td>115</td>\n",
              "      <td>152.75</td>\n",
              "      <td>Stride Process 1</td>\n",
              "      <td>10</td>\n",
              "      <td>147</td>\n",
              "    </tr>\n",
              "    <tr>\n",
              "      <th>149</th>\n",
              "      <td>149</td>\n",
              "      <td>115</td>\n",
              "      <td>158.50</td>\n",
              "      <td>Stride Process 4</td>\n",
              "      <td>20</td>\n",
              "      <td>147</td>\n",
              "    </tr>\n",
              "    <tr>\n",
              "      <th>150</th>\n",
              "      <td>150</td>\n",
              "      <td>115</td>\n",
              "      <td>158.50</td>\n",
              "      <td>Stride Process 2</td>\n",
              "      <td>30</td>\n",
              "      <td>148</td>\n",
              "    </tr>\n",
              "    <tr>\n",
              "      <th>151</th>\n",
              "      <td>151</td>\n",
              "      <td>115</td>\n",
              "      <td>158.50</td>\n",
              "      <td>Stride Process 5</td>\n",
              "      <td>30</td>\n",
              "      <td>889/6</td>\n",
              "    </tr>\n",
              "  </tbody>\n",
              "</table>\n",
              "<p>152 rows × 6 columns</p>\n",
              "</div>\n",
              "      <button class=\"colab-df-convert\" onclick=\"convertToInteractive('df-afcf0c84-97d8-4d7c-88a6-396ec7137a29')\"\n",
              "              title=\"Convert this dataframe to an interactive table.\"\n",
              "              style=\"display:none;\">\n",
              "        \n",
              "  <svg xmlns=\"http://www.w3.org/2000/svg\" height=\"24px\"viewBox=\"0 0 24 24\"\n",
              "       width=\"24px\">\n",
              "    <path d=\"M0 0h24v24H0V0z\" fill=\"none\"/>\n",
              "    <path d=\"M18.56 5.44l.94 2.06.94-2.06 2.06-.94-2.06-.94-.94-2.06-.94 2.06-2.06.94zm-11 1L8.5 8.5l.94-2.06 2.06-.94-2.06-.94L8.5 2.5l-.94 2.06-2.06.94zm10 10l.94 2.06.94-2.06 2.06-.94-2.06-.94-.94-2.06-.94 2.06-2.06.94z\"/><path d=\"M17.41 7.96l-1.37-1.37c-.4-.4-.92-.59-1.43-.59-.52 0-1.04.2-1.43.59L10.3 9.45l-7.72 7.72c-.78.78-.78 2.05 0 2.83L4 21.41c.39.39.9.59 1.41.59.51 0 1.02-.2 1.41-.59l7.78-7.78 2.81-2.81c.8-.78.8-2.07 0-2.86zM5.41 20L4 18.59l7.72-7.72 1.47 1.35L5.41 20z\"/>\n",
              "  </svg>\n",
              "      </button>\n",
              "      \n",
              "  <style>\n",
              "    .colab-df-container {\n",
              "      display:flex;\n",
              "      flex-wrap:wrap;\n",
              "      gap: 12px;\n",
              "    }\n",
              "\n",
              "    .colab-df-convert {\n",
              "      background-color: #E8F0FE;\n",
              "      border: none;\n",
              "      border-radius: 50%;\n",
              "      cursor: pointer;\n",
              "      display: none;\n",
              "      fill: #1967D2;\n",
              "      height: 32px;\n",
              "      padding: 0 0 0 0;\n",
              "      width: 32px;\n",
              "    }\n",
              "\n",
              "    .colab-df-convert:hover {\n",
              "      background-color: #E2EBFA;\n",
              "      box-shadow: 0px 1px 2px rgba(60, 64, 67, 0.3), 0px 1px 3px 1px rgba(60, 64, 67, 0.15);\n",
              "      fill: #174EA6;\n",
              "    }\n",
              "\n",
              "    [theme=dark] .colab-df-convert {\n",
              "      background-color: #3B4455;\n",
              "      fill: #D2E3FC;\n",
              "    }\n",
              "\n",
              "    [theme=dark] .colab-df-convert:hover {\n",
              "      background-color: #434B5C;\n",
              "      box-shadow: 0px 1px 3px 1px rgba(0, 0, 0, 0.15);\n",
              "      filter: drop-shadow(0px 1px 2px rgba(0, 0, 0, 0.3));\n",
              "      fill: #FFFFFF;\n",
              "    }\n",
              "  </style>\n",
              "\n",
              "      <script>\n",
              "        const buttonEl =\n",
              "          document.querySelector('#df-afcf0c84-97d8-4d7c-88a6-396ec7137a29 button.colab-df-convert');\n",
              "        buttonEl.style.display =\n",
              "          google.colab.kernel.accessAllowed ? 'block' : 'none';\n",
              "\n",
              "        async function convertToInteractive(key) {\n",
              "          const element = document.querySelector('#df-afcf0c84-97d8-4d7c-88a6-396ec7137a29');\n",
              "          const dataTable =\n",
              "            await google.colab.kernel.invokeFunction('convertToInteractive',\n",
              "                                                     [key], {});\n",
              "          if (!dataTable) return;\n",
              "\n",
              "          const docLinkHtml = 'Like what you see? Visit the ' +\n",
              "            '<a target=\"_blank\" href=https://colab.research.google.com/notebooks/data_table.ipynb>data table notebook</a>'\n",
              "            + ' to learn more about interactive tables.';\n",
              "          element.innerHTML = '';\n",
              "          dataTable['output_type'] = 'display_data';\n",
              "          await google.colab.output.renderOutput(dataTable, element);\n",
              "          const docLink = document.createElement('div');\n",
              "          docLink.innerHTML = docLinkHtml;\n",
              "          element.appendChild(docLink);\n",
              "        }\n",
              "      </script>\n",
              "    </div>\n",
              "  </div>\n",
              "  "
            ]
          },
          "metadata": {},
          "execution_count": 18
        }
      ]
    },
    {
      "cell_type": "code",
      "source": [
        "stride_df[\"id\"] = stride_df[\"name\"].apply(lambda x: int(x[-1]))\n",
        "stride_df"
      ],
      "metadata": {
        "colab": {
          "base_uri": "https://localhost:8080/",
          "height": 423
        },
        "id": "orqZ_rgvD-3m",
        "outputId": "ebd2453e-23e7-4e42-cf6f-4567c821aa6e"
      },
      "execution_count": null,
      "outputs": [
        {
          "output_type": "execute_result",
          "data": {
            "text/plain": [
              "     ticks  all_share  max_pass              name  share pass_value  id\n",
              "0        0        100      0.00  Stride Process 0     20          0   0\n",
              "1        1        100      5.00  Stride Process 2     30          0   2\n",
              "2        2        100      5.00  Stride Process 4     20          0   4\n",
              "3        3        100      5.00  Stride Process 1     10          0   1\n",
              "4        4        100     10.00  Stride Process 3     20          0   3\n",
              "..     ...        ...       ...               ...    ...        ...  ..\n",
              "147    147        115    152.00  Stride Process 0     20        147   0\n",
              "148    148        115    152.75  Stride Process 1     10        147   1\n",
              "149    149        115    158.50  Stride Process 4     20        147   4\n",
              "150    150        115    158.50  Stride Process 2     30        148   2\n",
              "151    151        115    158.50  Stride Process 5     30      889/6   5\n",
              "\n",
              "[152 rows x 7 columns]"
            ],
            "text/html": [
              "\n",
              "  <div id=\"df-708bc871-815e-461b-9572-d26ea4343fb1\">\n",
              "    <div class=\"colab-df-container\">\n",
              "      <div>\n",
              "<style scoped>\n",
              "    .dataframe tbody tr th:only-of-type {\n",
              "        vertical-align: middle;\n",
              "    }\n",
              "\n",
              "    .dataframe tbody tr th {\n",
              "        vertical-align: top;\n",
              "    }\n",
              "\n",
              "    .dataframe thead th {\n",
              "        text-align: right;\n",
              "    }\n",
              "</style>\n",
              "<table border=\"1\" class=\"dataframe\">\n",
              "  <thead>\n",
              "    <tr style=\"text-align: right;\">\n",
              "      <th></th>\n",
              "      <th>ticks</th>\n",
              "      <th>all_share</th>\n",
              "      <th>max_pass</th>\n",
              "      <th>name</th>\n",
              "      <th>share</th>\n",
              "      <th>pass_value</th>\n",
              "      <th>id</th>\n",
              "    </tr>\n",
              "  </thead>\n",
              "  <tbody>\n",
              "    <tr>\n",
              "      <th>0</th>\n",
              "      <td>0</td>\n",
              "      <td>100</td>\n",
              "      <td>0.00</td>\n",
              "      <td>Stride Process 0</td>\n",
              "      <td>20</td>\n",
              "      <td>0</td>\n",
              "      <td>0</td>\n",
              "    </tr>\n",
              "    <tr>\n",
              "      <th>1</th>\n",
              "      <td>1</td>\n",
              "      <td>100</td>\n",
              "      <td>5.00</td>\n",
              "      <td>Stride Process 2</td>\n",
              "      <td>30</td>\n",
              "      <td>0</td>\n",
              "      <td>2</td>\n",
              "    </tr>\n",
              "    <tr>\n",
              "      <th>2</th>\n",
              "      <td>2</td>\n",
              "      <td>100</td>\n",
              "      <td>5.00</td>\n",
              "      <td>Stride Process 4</td>\n",
              "      <td>20</td>\n",
              "      <td>0</td>\n",
              "      <td>4</td>\n",
              "    </tr>\n",
              "    <tr>\n",
              "      <th>3</th>\n",
              "      <td>3</td>\n",
              "      <td>100</td>\n",
              "      <td>5.00</td>\n",
              "      <td>Stride Process 1</td>\n",
              "      <td>10</td>\n",
              "      <td>0</td>\n",
              "      <td>1</td>\n",
              "    </tr>\n",
              "    <tr>\n",
              "      <th>4</th>\n",
              "      <td>4</td>\n",
              "      <td>100</td>\n",
              "      <td>10.00</td>\n",
              "      <td>Stride Process 3</td>\n",
              "      <td>20</td>\n",
              "      <td>0</td>\n",
              "      <td>3</td>\n",
              "    </tr>\n",
              "    <tr>\n",
              "      <th>...</th>\n",
              "      <td>...</td>\n",
              "      <td>...</td>\n",
              "      <td>...</td>\n",
              "      <td>...</td>\n",
              "      <td>...</td>\n",
              "      <td>...</td>\n",
              "      <td>...</td>\n",
              "    </tr>\n",
              "    <tr>\n",
              "      <th>147</th>\n",
              "      <td>147</td>\n",
              "      <td>115</td>\n",
              "      <td>152.00</td>\n",
              "      <td>Stride Process 0</td>\n",
              "      <td>20</td>\n",
              "      <td>147</td>\n",
              "      <td>0</td>\n",
              "    </tr>\n",
              "    <tr>\n",
              "      <th>148</th>\n",
              "      <td>148</td>\n",
              "      <td>115</td>\n",
              "      <td>152.75</td>\n",
              "      <td>Stride Process 1</td>\n",
              "      <td>10</td>\n",
              "      <td>147</td>\n",
              "      <td>1</td>\n",
              "    </tr>\n",
              "    <tr>\n",
              "      <th>149</th>\n",
              "      <td>149</td>\n",
              "      <td>115</td>\n",
              "      <td>158.50</td>\n",
              "      <td>Stride Process 4</td>\n",
              "      <td>20</td>\n",
              "      <td>147</td>\n",
              "      <td>4</td>\n",
              "    </tr>\n",
              "    <tr>\n",
              "      <th>150</th>\n",
              "      <td>150</td>\n",
              "      <td>115</td>\n",
              "      <td>158.50</td>\n",
              "      <td>Stride Process 2</td>\n",
              "      <td>30</td>\n",
              "      <td>148</td>\n",
              "      <td>2</td>\n",
              "    </tr>\n",
              "    <tr>\n",
              "      <th>151</th>\n",
              "      <td>151</td>\n",
              "      <td>115</td>\n",
              "      <td>158.50</td>\n",
              "      <td>Stride Process 5</td>\n",
              "      <td>30</td>\n",
              "      <td>889/6</td>\n",
              "      <td>5</td>\n",
              "    </tr>\n",
              "  </tbody>\n",
              "</table>\n",
              "<p>152 rows × 7 columns</p>\n",
              "</div>\n",
              "      <button class=\"colab-df-convert\" onclick=\"convertToInteractive('df-708bc871-815e-461b-9572-d26ea4343fb1')\"\n",
              "              title=\"Convert this dataframe to an interactive table.\"\n",
              "              style=\"display:none;\">\n",
              "        \n",
              "  <svg xmlns=\"http://www.w3.org/2000/svg\" height=\"24px\"viewBox=\"0 0 24 24\"\n",
              "       width=\"24px\">\n",
              "    <path d=\"M0 0h24v24H0V0z\" fill=\"none\"/>\n",
              "    <path d=\"M18.56 5.44l.94 2.06.94-2.06 2.06-.94-2.06-.94-.94-2.06-.94 2.06-2.06.94zm-11 1L8.5 8.5l.94-2.06 2.06-.94-2.06-.94L8.5 2.5l-.94 2.06-2.06.94zm10 10l.94 2.06.94-2.06 2.06-.94-2.06-.94-.94-2.06-.94 2.06-2.06.94z\"/><path d=\"M17.41 7.96l-1.37-1.37c-.4-.4-.92-.59-1.43-.59-.52 0-1.04.2-1.43.59L10.3 9.45l-7.72 7.72c-.78.78-.78 2.05 0 2.83L4 21.41c.39.39.9.59 1.41.59.51 0 1.02-.2 1.41-.59l7.78-7.78 2.81-2.81c.8-.78.8-2.07 0-2.86zM5.41 20L4 18.59l7.72-7.72 1.47 1.35L5.41 20z\"/>\n",
              "  </svg>\n",
              "      </button>\n",
              "      \n",
              "  <style>\n",
              "    .colab-df-container {\n",
              "      display:flex;\n",
              "      flex-wrap:wrap;\n",
              "      gap: 12px;\n",
              "    }\n",
              "\n",
              "    .colab-df-convert {\n",
              "      background-color: #E8F0FE;\n",
              "      border: none;\n",
              "      border-radius: 50%;\n",
              "      cursor: pointer;\n",
              "      display: none;\n",
              "      fill: #1967D2;\n",
              "      height: 32px;\n",
              "      padding: 0 0 0 0;\n",
              "      width: 32px;\n",
              "    }\n",
              "\n",
              "    .colab-df-convert:hover {\n",
              "      background-color: #E2EBFA;\n",
              "      box-shadow: 0px 1px 2px rgba(60, 64, 67, 0.3), 0px 1px 3px 1px rgba(60, 64, 67, 0.15);\n",
              "      fill: #174EA6;\n",
              "    }\n",
              "\n",
              "    [theme=dark] .colab-df-convert {\n",
              "      background-color: #3B4455;\n",
              "      fill: #D2E3FC;\n",
              "    }\n",
              "\n",
              "    [theme=dark] .colab-df-convert:hover {\n",
              "      background-color: #434B5C;\n",
              "      box-shadow: 0px 1px 3px 1px rgba(0, 0, 0, 0.15);\n",
              "      filter: drop-shadow(0px 1px 2px rgba(0, 0, 0, 0.3));\n",
              "      fill: #FFFFFF;\n",
              "    }\n",
              "  </style>\n",
              "\n",
              "      <script>\n",
              "        const buttonEl =\n",
              "          document.querySelector('#df-708bc871-815e-461b-9572-d26ea4343fb1 button.colab-df-convert');\n",
              "        buttonEl.style.display =\n",
              "          google.colab.kernel.accessAllowed ? 'block' : 'none';\n",
              "\n",
              "        async function convertToInteractive(key) {\n",
              "          const element = document.querySelector('#df-708bc871-815e-461b-9572-d26ea4343fb1');\n",
              "          const dataTable =\n",
              "            await google.colab.kernel.invokeFunction('convertToInteractive',\n",
              "                                                     [key], {});\n",
              "          if (!dataTable) return;\n",
              "\n",
              "          const docLinkHtml = 'Like what you see? Visit the ' +\n",
              "            '<a target=\"_blank\" href=https://colab.research.google.com/notebooks/data_table.ipynb>data table notebook</a>'\n",
              "            + ' to learn more about interactive tables.';\n",
              "          element.innerHTML = '';\n",
              "          dataTable['output_type'] = 'display_data';\n",
              "          await google.colab.output.renderOutput(dataTable, element);\n",
              "          const docLink = document.createElement('div');\n",
              "          docLink.innerHTML = docLinkHtml;\n",
              "          element.appendChild(docLink);\n",
              "        }\n",
              "      </script>\n",
              "    </div>\n",
              "  </div>\n",
              "  "
            ]
          },
          "metadata": {},
          "execution_count": 19
        }
      ]
    },
    {
      "cell_type": "code",
      "source": [
        "def plotStride(xlab=\"ticks\", ylab=\"pass_value\", figsize=(10, 10)):\n",
        "  plt.figure(figsize=figsize)\n",
        "  labels = list(stride_df[\"name\"].unique())\n",
        "  for label in labels:\n",
        "    t = stride_df[stride_df[\"name\"] == label]\n",
        "    plt.scatter(t[xlab], t[ylab], alpha=0.7, label=label)\n",
        "  plt.legend()\n",
        "  plt.xlabel(xlab)\n",
        "  plt.ylabel(ylab)"
      ],
      "metadata": {
        "id": "Jvw714xKBcc7"
      },
      "execution_count": null,
      "outputs": []
    },
    {
      "cell_type": "code",
      "source": [
        "plotStride()"
      ],
      "metadata": {
        "colab": {
          "base_uri": "https://localhost:8080/",
          "height": 606
        },
        "id": "IEBx9FOwke3k",
        "outputId": "08bc5adb-9ee9-4aea-93e9-ce06ec927eaa"
      },
      "execution_count": null,
      "outputs": [
        {
          "output_type": "display_data",
          "data": {
            "text/plain": [
              "<Figure size 720x720 with 1 Axes>"
            ],
            "image/png": "[encoded data removed]"
          },
          "metadata": {
            "needs_background": "light"
          }
        }
      ]
    },
    {
      "cell_type": "code",
      "source": [
        "plotStride(ylab=\"id\")"
      ],
      "metadata": {
        "colab": {
          "base_uri": "https://localhost:8080/",
          "height": 606
        },
        "id": "9Mu_d2tECpGg",
        "outputId": "9ae77f4c-9fc6-4777-d66e-7e7ed7007b5c"
      },
      "execution_count": null,
      "outputs": [
        {
          "output_type": "display_data",
          "data": {
            "text/plain": [
              "<Figure size 720x720 with 1 Axes>"
            ],
            "image/png": "[encoded data removed]"
          },
          "metadata": {
            "needs_background": "light"
          }
        }
      ]
    },
    {
      "cell_type": "markdown",
      "source": [
        "# MLFQ"
      ],
      "metadata": {
        "id": "H3Lx9wOlJiyh"
      }
    },
    {
      "cell_type": "code",
      "source": [
        "class MLFQItem:\n",
        "  def __init__(self, name):\n",
        "    self.name = name\n",
        "    self.ticks = 0\n",
        "    self.reset()\n",
        "\n",
        "  def process(self):\n",
        "    self.ticks += 1\n",
        "    self.cticks += 1\n",
        "    return self\n",
        "\n",
        "  def reset(self):\n",
        "    self.cticks = 0\n",
        "    return self\n",
        "\n",
        "  def __repr__(self):\n",
        "    return f\"{self.name}: ticks = {self.ticks}, cticks = {self.cticks}\""
      ],
      "metadata": {
        "id": "M5ep7zLDLrPs"
      },
      "execution_count": null,
      "outputs": []
    },
    {
      "cell_type": "code",
      "source": [
        "class MLFQ:\n",
        "  def __init__(self, numQ = 3, boosting_ticks = 100, max_ticks = (1, 2, 4), time_allots = (5, 10, 10 ** 8)):\n",
        "    self.numQ = numQ\n",
        "\n",
        "    self.ticks_left = 0\n",
        "    self.mlfq = [deque() for _ in range(self.numQ)]\n",
        "    self.mlfq_ticks = 0\n",
        "\n",
        "    self.max_ticks = max_ticks\n",
        "    self.boosting_ticks = boosting_ticks\n",
        "    self.time_allots = time_allots\n",
        "\n",
        "    self.mlfq_logs = []\n",
        "\n",
        "  def push(self, item):\n",
        "    self.mlfq[0].append(item)\n",
        "  \n",
        "  def boost_priority(self):\n",
        "    for mlfq in self.mlfq[1:]:\n",
        "      if len(mlfq) == 0:\n",
        "        continue\n",
        "      def processResetAndReturn(p):\n",
        "        p.reset()\n",
        "        return p\n",
        "      # print(\"Boosting Occurs\")\n",
        "      self.mlfq[0].extend(list(map(processResetAndReturn, list(mlfq))))\n",
        "      mlfq.clear()\n",
        "  \n",
        "  def process(self):\n",
        "    while True:\n",
        "      for idx in range(self.numQ):\n",
        "        if len(self.mlfq[idx]) == 0:\n",
        "          continue\n",
        "        \n",
        "        process = self.mlfq[idx].popleft()\n",
        "\n",
        "        for _ in range(self.max_ticks[idx]):\n",
        "          self.mlfq_logs.append((self.mlfq_ticks, process.name, process.ticks, process.cticks, idx)) # logging\n",
        "          \n",
        "          yield process.process() # context switching\n",
        "          self.mlfq_ticks +=1\n",
        "          # print(f\"{MLFQItem.ticks:04}: {process}, level = {idx}\")\n",
        "\n",
        "          if self.mlfq_ticks % self.boosting_ticks == self.boosting_ticks - 1:\n",
        "            self.boost_priority()\n",
        "\n",
        "        if process.cticks >= self.time_allots[idx]:\n",
        "          process.reset() # Reset tick counts\n",
        "          self.mlfq[min(idx+1, self.numQ-1)].append(process) # Lower\n",
        "        else:\n",
        "          self.mlfq[idx].append(process) # Stay the same level\n",
        "        break"
      ],
      "metadata": {
        "id": "_Qz4y8HdXLvX"
      },
      "execution_count": null,
      "outputs": []
    },
    {
      "cell_type": "code",
      "source": [
        "BOOSTING_TICKS = 100\n",
        "MLFQ_MAX_TICKS = [\n",
        "  1, 2, 4\n",
        "]\n",
        "MLFQ_TIME_ALLOTS = [\n",
        "  5, 10, 10 ** 8\n",
        "]"
      ],
      "metadata": {
        "id": "6EIsIfzYZCid"
      },
      "execution_count": null,
      "outputs": []
    },
    {
      "cell_type": "code",
      "source": [
        "mlfq = MLFQ(3, BOOSTING_TICKS, MLFQ_MAX_TICKS, MLFQ_TIME_ALLOTS)"
      ],
      "metadata": {
        "id": "AXwBLJkBX7vO"
      },
      "execution_count": null,
      "outputs": []
    },
    {
      "cell_type": "code",
      "source": [
        "mlfq.push(MLFQItem(\"MLFQ Process 0\"))\n",
        "mlfq.push(MLFQItem(\"MLFQ Process 1\"))\n",
        "mlfq.push(MLFQItem(\"MLFQ Process 2\"))\n",
        "mlfq.push(MLFQItem(\"MLFQ Process 3\"))\n",
        "mlfq.push(MLFQItem(\"MLFQ Process 4\"))"
      ],
      "metadata": {
        "id": "6xl5soJ7YHHw"
      },
      "execution_count": null,
      "outputs": []
    },
    {
      "cell_type": "code",
      "source": [
        "MLFQ_scheduler = mlfq.process()"
      ],
      "metadata": {
        "id": "WjK00Incc9l7"
      },
      "execution_count": null,
      "outputs": []
    },
    {
      "cell_type": "code",
      "source": [
        "for _ in range(80):\n",
        "  next(MLFQ_scheduler)"
      ],
      "metadata": {
        "id": "mzu6mT_uYjtR"
      },
      "execution_count": null,
      "outputs": []
    },
    {
      "cell_type": "code",
      "source": [
        "mlfq.push(MLFQItem(\"MLFQ Process 5\"))"
      ],
      "metadata": {
        "id": "4Yv9wicYYz-2"
      },
      "execution_count": null,
      "outputs": []
    },
    {
      "cell_type": "code",
      "source": [
        "for _ in range(70):\n",
        "  next(MLFQ_scheduler)"
      ],
      "metadata": {
        "id": "MJ9UslYGhEfq"
      },
      "execution_count": null,
      "outputs": []
    },
    {
      "cell_type": "code",
      "source": [
        "mlfq_df = pd.DataFrame(mlfq.mlfq_logs, columns=[\"MLFQ_ticks\", \"process_name\", \"process_ticks\", \"queue_ticks\", \"level\"])"
      ],
      "metadata": {
        "id": "-BpCG3duhSFG"
      },
      "execution_count": null,
      "outputs": []
    },
    {
      "cell_type": "code",
      "source": [
        "def plotMLFQ(xlab=\"MLFQ_ticks\", ylab=\"process_ticks\", figsize=(10, 10)):\n",
        "  plt.figure(figsize=figsize)\n",
        "  labels = list(mlfq_df[\"process_name\"].unique())\n",
        "  for label in labels:\n",
        "    t = mlfq_df[mlfq_df[\"process_name\"] == label]\n",
        "    if ylab == \"level\":\n",
        "      plt.scatter(t[xlab], 2-t[\"level\"], alpha=0.7, label=label)\n",
        "    else:\n",
        "      plt.scatter(t[xlab], t[ylab], alpha=0.7, label=label)\n",
        "  plt.legend()\n",
        "  plt.xlabel(\"# of MLFQ ticks elapsed\")\n",
        "  plt.ylabel(ylab.replace(\"_\", \" \"))"
      ],
      "metadata": {
        "id": "QQIiUbaDVFag"
      },
      "execution_count": null,
      "outputs": []
    },
    {
      "cell_type": "code",
      "source": [
        "plotMLFQ()"
      ],
      "metadata": {
        "colab": {
          "base_uri": "https://localhost:8080/",
          "height": 606
        },
        "id": "JgDVzz5FWhxr",
        "outputId": "e1ca390b-c0b8-479b-d4c7-a2ac1cc6dd6c"
      },
      "execution_count": null,
      "outputs": [
        {
          "output_type": "display_data",
          "data": {
            "text/plain": [
              "<Figure size 720x720 with 1 Axes>"
            ],
            "image/png": "[encoded data removed]"
          },
          "metadata": {
            "needs_background": "light"
          }
        }
      ]
    },
    {
      "cell_type": "code",
      "source": [
        "plotMLFQ(ylab=\"level\")"
      ],
      "metadata": {
        "colab": {
          "base_uri": "https://localhost:8080/",
          "height": 606
        },
        "id": "yymwoC7Rk9Cg",
        "outputId": "6b416d0d-cc67-4baf-a436-e74156115180"
      },
      "execution_count": null,
      "outputs": [
        {
          "output_type": "display_data",
          "data": {
            "text/plain": [
              "<Figure size 720x720 with 1 Axes>"
            ],
            "image/png": "[encoded data removed]"
          },
          "metadata": {
            "needs_background": "light"
          }
        }
      ]
    },
    {
      "cell_type": "markdown",
      "source": [
        "# MLFQ + Stride"
      ],
      "metadata": {
        "id": "6FI-qRMLG_pY"
      }
    },
    {
      "cell_type": "code",
      "source": [
        "class MLFQStrideItem(StrideItem):\n",
        "  def __init__(self, stride, mlfq, mlfq_scheduler):\n",
        "    super().__init__(stride, \"MLFQ\", 20)\n",
        "    self.mlfq = mlfq\n",
        "    self.mlfq_scheduler = mlfq_scheduler\n",
        "  \n",
        "  def process_mlfq(self):\n",
        "    return next(self.mlfq_scheduler)"
      ],
      "metadata": {
        "id": "Uw4wprQZHDVv"
      },
      "execution_count": null,
      "outputs": []
    },
    {
      "cell_type": "code",
      "source": [
        "class StrideWithMLFQ:\n",
        "  def __init__(self):\n",
        "    self.all_share = 0\n",
        "    self.max_pass = Fraction(0)\n",
        "    self.sq = PriorityQueue()\n",
        "\n",
        "    self.stride_logs = []\n",
        "  \n",
        "  def push(self, name, share):\n",
        "    self.sq.put(StrideItem(self, name, share))\n",
        "  \n",
        "  def pushMLFQ(self, mlfq, mlfq_scheduler):\n",
        "    self.sq.put(MLFQStrideItem(self, mlfq, mlfq_scheduler))\n",
        "\n",
        "  def process(self):\n",
        "    idx = 0\n",
        "    while True:\n",
        "      process = self.sq.get()\n",
        "      if isinstance(process, MLFQStrideItem):\n",
        "        for _ in range(4):\n",
        "          mini_process = process.process_mlfq()\n",
        "          self.stride_logs.append((idx, self.all_share, frac2float(self.max_pass), mini_process.name, process.share, process.pass_value)) # logging\n",
        "          yield mini_process # context switching\n",
        "          idx += 1\n",
        "      else:\n",
        "        for _ in range(4):\n",
        "          self.stride_logs.append((idx, self.all_share, frac2float(self.max_pass), process.name, process.share, process.pass_value)) # logging\n",
        "          yield process # context switching\n",
        "          idx += 1\n",
        "      process.process()\n",
        "      self.sq.put(process)"
      ],
      "metadata": {
        "id": "6jZD7ycqTNpQ"
      },
      "execution_count": null,
      "outputs": []
    },
    {
      "cell_type": "code",
      "source": [
        "smlfq = StrideWithMLFQ()"
      ],
      "metadata": {
        "id": "RwBYDdykI1gs"
      },
      "execution_count": null,
      "outputs": []
    },
    {
      "cell_type": "code",
      "source": [
        "mlfq = MLFQ()"
      ],
      "metadata": {
        "id": "cP7c_oyNI7Bt"
      },
      "execution_count": null,
      "outputs": []
    },
    {
      "cell_type": "code",
      "source": [
        "mlfq.push(MLFQItem(\"MLFQ Process 0\"))\n",
        "mlfq.push(MLFQItem(\"MLFQ Process 1\"))\n",
        "mlfq.push(MLFQItem(\"MLFQ Process 2\"))\n",
        "mlfq.push(MLFQItem(\"MLFQ Process 3\"))"
      ],
      "metadata": {
        "id": "oadEkaaLI-Ws"
      },
      "execution_count": null,
      "outputs": []
    },
    {
      "cell_type": "code",
      "source": [
        "mlfq_scheduler = mlfq.process()"
      ],
      "metadata": {
        "id": "BuejphFFJK8Y"
      },
      "execution_count": null,
      "outputs": []
    },
    {
      "cell_type": "code",
      "source": [
        "smlfq.pushMLFQ(mlfq, mlfq_scheduler)"
      ],
      "metadata": {
        "id": "9IDeEgbbJH4D"
      },
      "execution_count": null,
      "outputs": []
    },
    {
      "cell_type": "code",
      "source": [
        "smlfq.push(\"Stride Process 0\", 1)\n",
        "smlfq.push(\"Stride Process 1\", 3)\n",
        "smlfq.push(\"Stride Process 2\", 4)"
      ],
      "metadata": {
        "id": "dScOy-llJTQ4"
      },
      "execution_count": null,
      "outputs": []
    },
    {
      "cell_type": "code",
      "source": [
        "smlfq_scheduler = smlfq.process()"
      ],
      "metadata": {
        "id": "0YubaT2RJufT"
      },
      "execution_count": null,
      "outputs": []
    },
    {
      "cell_type": "code",
      "source": [
        "for _ in range(800):\n",
        "  next(smlfq_scheduler)"
      ],
      "metadata": {
        "id": "4siSdB5RJx_Q"
      },
      "execution_count": null,
      "outputs": []
    },
    {
      "cell_type": "code",
      "source": [
        "smlfq_df = pd.DataFrame(smlfq.stride_logs, columns = [\"ticks\", \"all_share\", \"max_pass\", \"name\", \"share\", \"pass_value\"])\n",
        "smlfq_df[\"pass_value\"] = smlfq_df[\"pass_value\"].apply(frac2float)\n",
        "smlfq_df"
      ],
      "metadata": {
        "colab": {
          "base_uri": "https://localhost:8080/",
          "height": 423
        },
        "id": "12etwpO2J4is",
        "outputId": "6b7bcf56-8a51-4470-8a77-cdc37853ca6d"
      },
      "execution_count": null,
      "outputs": [
        {
          "output_type": "execute_result",
          "data": {
            "text/plain": [
              "     ticks  all_share    max_pass              name  share  pass_value\n",
              "0        0         28    0.000000    MLFQ Process 0     20         0.0\n",
              "1        1         28    0.000000    MLFQ Process 1     20         0.0\n",
              "2        2         28    0.000000    MLFQ Process 2     20         0.0\n",
              "3        3         28    0.000000    MLFQ Process 3     20         0.0\n",
              "4        4         28    1.400000  Stride Process 1      3         0.0\n",
              "..     ...        ...         ...               ...    ...         ...\n",
              "795    795         28  205.333333    MLFQ Process 0     20       196.0\n",
              "796    796         28  205.333333  Stride Process 0      1       196.0\n",
              "797    797         28  205.333333  Stride Process 0      1       196.0\n",
              "798    798         28  205.333333  Stride Process 0      1       196.0\n",
              "799    799         28  205.333333  Stride Process 0      1       196.0\n",
              "\n",
              "[800 rows x 6 columns]"
            ],
            "text/html": [
              "\n",
              "  <div id=\"df-1a0d8995-fc32-4ed1-b6ec-a30fcf484898\">\n",
              "    <div class=\"colab-df-container\">\n",
              "      <div>\n",
              "<style scoped>\n",
              "    .dataframe tbody tr th:only-of-type {\n",
              "        vertical-align: middle;\n",
              "    }\n",
              "\n",
              "    .dataframe tbody tr th {\n",
              "        vertical-align: top;\n",
              "    }\n",
              "\n",
              "    .dataframe thead th {\n",
              "        text-align: right;\n",
              "    }\n",
              "</style>\n",
              "<table border=\"1\" class=\"dataframe\">\n",
              "  <thead>\n",
              "    <tr style=\"text-align: right;\">\n",
              "      <th></th>\n",
              "      <th>ticks</th>\n",
              "      <th>all_share</th>\n",
              "      <th>max_pass</th>\n",
              "      <th>name</th>\n",
              "      <th>share</th>\n",
              "      <th>pass_value</th>\n",
              "    </tr>\n",
              "  </thead>\n",
              "  <tbody>\n",
              "    <tr>\n",
              "      <th>0</th>\n",
              "      <td>0</td>\n",
              "      <td>28</td>\n",
              "      <td>0.000000</td>\n",
              "      <td>MLFQ Process 0</td>\n",
              "      <td>20</td>\n",
              "      <td>0.0</td>\n",
              "    </tr>\n",
              "    <tr>\n",
              "      <th>1</th>\n",
              "      <td>1</td>\n",
              "      <td>28</td>\n",
              "      <td>0.000000</td>\n",
              "      <td>MLFQ Process 1</td>\n",
              "      <td>20</td>\n",
              "      <td>0.0</td>\n",
              "    </tr>\n",
              "    <tr>\n",
              "      <th>2</th>\n",
              "      <td>2</td>\n",
              "      <td>28</td>\n",
              "      <td>0.000000</td>\n",
              "      <td>MLFQ Process 2</td>\n",
              "      <td>20</td>\n",
              "      <td>0.0</td>\n",
              "    </tr>\n",
              "    <tr>\n",
              "      <th>3</th>\n",
              "      <td>3</td>\n",
              "      <td>28</td>\n",
              "      <td>0.000000</td>\n",
              "      <td>MLFQ Process 3</td>\n",
              "      <td>20</td>\n",
              "      <td>0.0</td>\n",
              "    </tr>\n",
              "    <tr>\n",
              "      <th>4</th>\n",
              "      <td>4</td>\n",
              "      <td>28</td>\n",
              "      <td>1.400000</td>\n",
              "      <td>Stride Process 1</td>\n",
              "      <td>3</td>\n",
              "      <td>0.0</td>\n",
              "    </tr>\n",
              "    <tr>\n",
              "      <th>...</th>\n",
              "      <td>...</td>\n",
              "      <td>...</td>\n",
              "      <td>...</td>\n",
              "      <td>...</td>\n",
              "      <td>...</td>\n",
              "      <td>...</td>\n",
              "    </tr>\n",
              "    <tr>\n",
              "      <th>795</th>\n",
              "      <td>795</td>\n",
              "      <td>28</td>\n",
              "      <td>205.333333</td>\n",
              "      <td>MLFQ Process 0</td>\n",
              "      <td>20</td>\n",
              "      <td>196.0</td>\n",
              "    </tr>\n",
              "    <tr>\n",
              "      <th>796</th>\n",
              "      <td>796</td>\n",
              "      <td>28</td>\n",
              "      <td>205.333333</td>\n",
              "      <td>Stride Process 0</td>\n",
              "      <td>1</td>\n",
              "      <td>196.0</td>\n",
              "    </tr>\n",
              "    <tr>\n",
              "      <th>797</th>\n",
              "      <td>797</td>\n",
              "      <td>28</td>\n",
              "      <td>205.333333</td>\n",
              "      <td>Stride Process 0</td>\n",
              "      <td>1</td>\n",
              "      <td>196.0</td>\n",
              "    </tr>\n",
              "    <tr>\n",
              "      <th>798</th>\n",
              "      <td>798</td>\n",
              "      <td>28</td>\n",
              "      <td>205.333333</td>\n",
              "      <td>Stride Process 0</td>\n",
              "      <td>1</td>\n",
              "      <td>196.0</td>\n",
              "    </tr>\n",
              "    <tr>\n",
              "      <th>799</th>\n",
              "      <td>799</td>\n",
              "      <td>28</td>\n",
              "      <td>205.333333</td>\n",
              "      <td>Stride Process 0</td>\n",
              "      <td>1</td>\n",
              "      <td>196.0</td>\n",
              "    </tr>\n",
              "  </tbody>\n",
              "</table>\n",
              "<p>800 rows × 6 columns</p>\n",
              "</div>\n",
              "      <button class=\"colab-df-convert\" onclick=\"convertToInteractive('df-1a0d8995-fc32-4ed1-b6ec-a30fcf484898')\"\n",
              "              title=\"Convert this dataframe to an interactive table.\"\n",
              "              style=\"display:none;\">\n",
              "        \n",
              "  <svg xmlns=\"http://www.w3.org/2000/svg\" height=\"24px\"viewBox=\"0 0 24 24\"\n",
              "       width=\"24px\">\n",
              "    <path d=\"M0 0h24v24H0V0z\" fill=\"none\"/>\n",
              "    <path d=\"M18.56 5.44l.94 2.06.94-2.06 2.06-.94-2.06-.94-.94-2.06-.94 2.06-2.06.94zm-11 1L8.5 8.5l.94-2.06 2.06-.94-2.06-.94L8.5 2.5l-.94 2.06-2.06.94zm10 10l.94 2.06.94-2.06 2.06-.94-2.06-.94-.94-2.06-.94 2.06-2.06.94z\"/><path d=\"M17.41 7.96l-1.37-1.37c-.4-.4-.92-.59-1.43-.59-.52 0-1.04.2-1.43.59L10.3 9.45l-7.72 7.72c-.78.78-.78 2.05 0 2.83L4 21.41c.39.39.9.59 1.41.59.51 0 1.02-.2 1.41-.59l7.78-7.78 2.81-2.81c.8-.78.8-2.07 0-2.86zM5.41 20L4 18.59l7.72-7.72 1.47 1.35L5.41 20z\"/>\n",
              "  </svg>\n",
              "      </button>\n",
              "      \n",
              "  <style>\n",
              "    .colab-df-container {\n",
              "      display:flex;\n",
              "      flex-wrap:wrap;\n",
              "      gap: 12px;\n",
              "    }\n",
              "\n",
              "    .colab-df-convert {\n",
              "      background-color: #E8F0FE;\n",
              "      border: none;\n",
              "      border-radius: 50%;\n",
              "      cursor: pointer;\n",
              "      display: none;\n",
              "      fill: #1967D2;\n",
              "      height: 32px;\n",
              "      padding: 0 0 0 0;\n",
              "      width: 32px;\n",
              "    }\n",
              "\n",
              "    .colab-df-convert:hover {\n",
              "      background-color: #E2EBFA;\n",
              "      box-shadow: 0px 1px 2px rgba(60, 64, 67, 0.3), 0px 1px 3px 1px rgba(60, 64, 67, 0.15);\n",
              "      fill: #174EA6;\n",
              "    }\n",
              "\n",
              "    [theme=dark] .colab-df-convert {\n",
              "      background-color: #3B4455;\n",
              "      fill: #D2E3FC;\n",
              "    }\n",
              "\n",
              "    [theme=dark] .colab-df-convert:hover {\n",
              "      background-color: #434B5C;\n",
              "      box-shadow: 0px 1px 3px 1px rgba(0, 0, 0, 0.15);\n",
              "      filter: drop-shadow(0px 1px 2px rgba(0, 0, 0, 0.3));\n",
              "      fill: #FFFFFF;\n",
              "    }\n",
              "  </style>\n",
              "\n",
              "      <script>\n",
              "        const buttonEl =\n",
              "          document.querySelector('#df-1a0d8995-fc32-4ed1-b6ec-a30fcf484898 button.colab-df-convert');\n",
              "        buttonEl.style.display =\n",
              "          google.colab.kernel.accessAllowed ? 'block' : 'none';\n",
              "\n",
              "        async function convertToInteractive(key) {\n",
              "          const element = document.querySelector('#df-1a0d8995-fc32-4ed1-b6ec-a30fcf484898');\n",
              "          const dataTable =\n",
              "            await google.colab.kernel.invokeFunction('convertToInteractive',\n",
              "                                                     [key], {});\n",
              "          if (!dataTable) return;\n",
              "\n",
              "          const docLinkHtml = 'Like what you see? Visit the ' +\n",
              "            '<a target=\"_blank\" href=https://colab.research.google.com/notebooks/data_table.ipynb>data table notebook</a>'\n",
              "            + ' to learn more about interactive tables.';\n",
              "          element.innerHTML = '';\n",
              "          dataTable['output_type'] = 'display_data';\n",
              "          await google.colab.output.renderOutput(dataTable, element);\n",
              "          const docLink = document.createElement('div');\n",
              "          docLink.innerHTML = docLinkHtml;\n",
              "          element.appendChild(docLink);\n",
              "        }\n",
              "      </script>\n",
              "    </div>\n",
              "  </div>\n",
              "  "
            ]
          },
          "metadata": {},
          "execution_count": 190
        }
      ]
    },
    {
      "cell_type": "code",
      "source": [
        "len(smlfq_df[smlfq_df[\"name\"].apply(lambda x:x[:4]) == \"MLFQ\"]) / len(smlfq_df[\"name\"])"
      ],
      "metadata": {
        "colab": {
          "base_uri": "https://localhost:8080/"
        },
        "id": "VJASWqq2T85J",
        "outputId": "8e09e71f-fbb3-4957-f637-4e3d3b564790"
      },
      "execution_count": null,
      "outputs": [
        {
          "output_type": "execute_result",
          "data": {
            "text/plain": [
              "0.705"
            ]
          },
          "metadata": {},
          "execution_count": 191
        }
      ]
    },
    {
      "cell_type": "code",
      "source": [
        "len(smlfq_df[smlfq_df[\"name\"] == \"Stride Process 0\"]) / len(smlfq_df[\"name\"])"
      ],
      "metadata": {
        "colab": {
          "base_uri": "https://localhost:8080/"
        },
        "id": "ZzhbkYFeWTm_",
        "outputId": "04929730-2a4a-489e-aa5d-1d31d8eacb01"
      },
      "execution_count": null,
      "outputs": [
        {
          "output_type": "execute_result",
          "data": {
            "text/plain": [
              "0.04"
            ]
          },
          "metadata": {},
          "execution_count": 192
        }
      ]
    },
    {
      "cell_type": "code",
      "source": [
        "len(smlfq_df[smlfq_df[\"name\"] == \"Stride Process 1\"]) / len(smlfq_df[\"name\"])"
      ],
      "metadata": {
        "colab": {
          "base_uri": "https://localhost:8080/"
        },
        "id": "oEEoKLErWcR7",
        "outputId": "7da0cd1d-abfc-4017-f8f5-5c5ba5bca294"
      },
      "execution_count": null,
      "outputs": [
        {
          "output_type": "execute_result",
          "data": {
            "text/plain": [
              "0.11"
            ]
          },
          "metadata": {},
          "execution_count": 193
        }
      ]
    },
    {
      "cell_type": "code",
      "source": [
        "len(smlfq_df[smlfq_df[\"name\"] == \"Stride Process 2\"]) / len(smlfq_df[\"name\"])"
      ],
      "metadata": {
        "colab": {
          "base_uri": "https://localhost:8080/"
        },
        "id": "B32cJJoaWdhW",
        "outputId": "4ba60799-ed18-4f19-aeed-ebb71e290236"
      },
      "execution_count": null,
      "outputs": [
        {
          "output_type": "execute_result",
          "data": {
            "text/plain": [
              "0.145"
            ]
          },
          "metadata": {},
          "execution_count": 194
        }
      ]
    },
    {
      "cell_type": "code",
      "source": [
        "if True:\n",
        "  plt.figure(figsize=(10, 10))\n",
        "  labels = list(smlfq_df[\"name\"].unique())\n",
        "  labels.sort()\n",
        "  for label_idx, label in enumerate(labels):\n",
        "    t = smlfq_df[smlfq_df[\"name\"] == label]\n",
        "    plt.scatter(t[\"ticks\"], np.repeat(label_idx, len(t[\"ticks\"])), alpha=0.7, label=label)\n",
        "  plt.legend()\n",
        "  plt.xlabel(\"ticks\")\n",
        "  plt.ylabel(\"id\")"
      ],
      "metadata": {
        "colab": {
          "base_uri": "https://localhost:8080/",
          "height": 606
        },
        "id": "Mh4g-9oXLgUa",
        "outputId": "4de8f4c9-103b-4f21-aa4e-e50955408659"
      },
      "execution_count": null,
      "outputs": [
        {
          "output_type": "display_data",
          "data": {
            "text/plain": [
              "<Figure size 720x720 with 1 Axes>"
            ],
            "image/png": "[encoded data removed]"
          },
          "metadata": {
            "needs_background": "light"
          }
        }
      ]
    }
  ]
}